{
 "cells": [
  {
   "cell_type": "markdown",
   "id": "73915c7d",
   "metadata": {},
   "source": [
    "# Homework 3\n",
    "## Part I"
   ]
  },
  {
   "cell_type": "markdown",
   "id": "c8a71c4c",
   "metadata": {},
   "source": [
    "### Name one of the basic building blocks of programming and a small definition.\n",
    "1. Expressions\n",
    ": combination of opeartor and operands. results in a value. For example: a + b; a and b are operands and the + is the oeprator\n",
    "2. Statements\n",
    ": are synatacticlly correct instructions for the language one is working in. \n",
    "3. Statement Blocks\n",
    ": group statemetns together and are unique to different languages. in Python indnetation blocks statements while in C blocks use curly brackets {}.\n",
    "4. Function Blocks\n",
    ": a function is defined seperatly elsewhere in code and accomplish a single task whcih enables it to be reused whenerever you need by simply calling the function. if you need to update the function you only hace to edit it once. "
   ]
  },
  {
   "cell_type": "markdown",
   "id": "d941a9d5",
   "metadata": {},
   "source": [
    "### Match the data type to the appropriate data\n",
    "- string = \"I am a programmer\"\n",
    "- integer = 123\n",
    "- boolean = true\n",
    "- floating point = 34.63221"
   ]
  },
  {
   "cell_type": "markdown",
   "id": "f83fc50e",
   "metadata": {},
   "source": [
    "### What would I get if I did tried to add these to numbers together 123 and 5\n",
    "string: 1235  \n",
    "integers: 128  "
   ]
  },
  {
   "cell_type": "markdown",
   "id": "b313ab58",
   "metadata": {},
   "source": [
    "### Lists, also called vectors, are one dimensional arrays and are a series of items. From the following list what would the question apple_list[3] return? Remember we refer to items in a list by their position. Hint – remember how computers count.\n",
    "\n",
    "apple_list=[‘banana’,’pear’,’kumquat’,’pomegranate’,’passion fruit’]  \n",
    "'pomegranate'"
   ]
  },
  {
   "cell_type": "markdown",
   "id": "cb095ec0",
   "metadata": {},
   "source": [
    "### Name a difference between lists and dictionaries?\n",
    "Lists are ordered sequence of objects, whereas dictionares are unordered sets. dictionares are also accessed via keys and not their positions as objects in lists are."
   ]
  },
  {
   "cell_type": "markdown",
   "id": "b12019a0",
   "metadata": {},
   "source": [
    "### What would you get from this question from the following dictionary `fruit_dict[‘pear’]` : "
   ]
  },
  {
   "cell_type": "code",
   "execution_count": 10,
   "id": "4b7da506",
   "metadata": {},
   "outputs": [
    {
     "name": "stdout",
     "output_type": "stream",
     "text": [
      "3\n"
     ]
    }
   ],
   "source": [
    "fruit_dict = {}\n",
    "fruit_dict[\"apple\"]=10\n",
    "fruit_dict[\"pear\"] = 3\n",
    "fruit_dict[\"walnut\"]=216\n",
    "\n",
    "\n",
    "print(fruit_dict[\"pear\"]) \n",
    "\n"
   ]
  },
  {
   "cell_type": "markdown",
   "id": "156aba30",
   "metadata": {},
   "source": [
    "### In python what does the function `.replace()` do?  "
   ]
  },
  {
   "cell_type": "markdown",
   "id": "72dbb2e6",
   "metadata": {},
   "source": [
    "#### replaces a specified phrase (first phrase in paranthesis) with another specified phrase (second phrase in paranthesis). "
   ]
  },
  {
   "cell_type": "code",
   "execution_count": 13,
   "id": "44ace421",
   "metadata": {},
   "outputs": [
    {
     "name": "stdout",
     "output_type": "stream",
     "text": [
      "I like apples\n"
     ]
    }
   ],
   "source": [
    "txt = \"I like bananas\"\n",
    "x = txt.replace(\"bananas\", \"apples\")\n",
    "print(x) "
   ]
  },
  {
   "cell_type": "markdown",
   "id": "e6390ab5",
   "metadata": {},
   "source": [
    "### How do you print something in python? For example write a print statement to print “hello world!”  \n",
    "`print('Hello, world!')`"
   ]
  },
  {
   "cell_type": "markdown",
   "id": "a5ce6286",
   "metadata": {},
   "source": [
    "### Name one place you can go to get help with python?  \n",
    "The google gods!"
   ]
  },
  {
   "cell_type": "markdown",
   "id": "fb999c6a",
   "metadata": {},
   "source": [
    "### What is an if statement and when would you use one?  \n",
    "the if statement is as a true or false question.  \n",
    "If something is true, then run the code inside statement, otherwise do not or in the case of an if, else do something else.  \n",
    "One might use it the only perfrom a mathmatical function on values that are not zeros. Or to select a subset of data based on partiuclar parameters."
   ]
  },
  {
   "cell_type": "markdown",
   "id": "15ed4904",
   "metadata": {},
   "source": [
    "### From this list:  `container_list = [‘can’,’jar’,’hat’]`  \n",
    "What would be returned from this: `container_list[0:2]`.  \n",
    "Hint: Remember one number is inclusive and one exclusive.  "
   ]
  },
  {
   "cell_type": "code",
   "execution_count": 15,
   "id": "6da1a67c",
   "metadata": {},
   "outputs": [
    {
     "data": {
      "text/plain": [
       "['can', 'jar']"
      ]
     },
     "execution_count": 15,
     "metadata": {},
     "output_type": "execute_result"
    }
   ],
   "source": [
    "container_list = [\"can\",\"jar\",\"hat\"]\n",
    "container_list[0:2]"
   ]
  },
  {
   "cell_type": "markdown",
   "id": "61319f02",
   "metadata": {},
   "source": [
    "### What is the difference between an if statement and a while loop?  \n",
    "An if statement performs the operation once based on wether it satisfies the if statement. the while loop repeats a specific block of code an unkown number of times until a specific condition is met. "
   ]
  },
  {
   "cell_type": "markdown",
   "id": "4e95810a",
   "metadata": {},
   "source": [
    "### What would you get with the command fruit_dict.keys() after entering this dictionary:  "
   ]
  },
  {
   "cell_type": "code",
   "execution_count": 16,
   "id": "5e867c23",
   "metadata": {},
   "outputs": [
    {
     "data": {
      "text/plain": [
       "dict_keys(['apple', 'pear', 'walnut'])"
      ]
     },
     "execution_count": 16,
     "metadata": {},
     "output_type": "execute_result"
    }
   ],
   "source": [
    "fruit_dict = {}  \n",
    "fruit_dict[\"apple\"]=10  \n",
    "fruit_dict[\"pear\"] = 3  \n",
    "fruit_dict[\"walnut\"]=216  \n",
    "\n",
    "fruit_dict.keys()"
   ]
  },
  {
   "cell_type": "markdown",
   "id": "6a67b721",
   "metadata": {},
   "source": [
    "### In this statement: InFileName = open(InFileName, ‘r’) what does the ‘r’ indicate ?  \n",
    "'r' indicates the file will be read. “w” for writing and “a” for a appending. The open function takes two arguments, the name of the file and and the mode for which we would like to open the file. By default, when only the filename is passed, the open function opens the file in read mode."
   ]
  },
  {
   "cell_type": "markdown",
   "id": "968b18c2",
   "metadata": {},
   "source": [
    "### What does this command do? Line.strip(‘\\n’) why would you use it when printing out lines to the screen?  \n",
    "- the new line character “\\n” is used to create a new line. When inserted in a string all the characters after the character are added to a new line. Essentially the occurrence of the “\\n” indicates that the line ends here and the remaining characters would be displayed in a new line.  \n",
    "- `.strip('\\n')` will remove these line endings when opening a file. "
   ]
  },
  {
   "cell_type": "markdown",
   "id": "9b69b349",
   "metadata": {},
   "source": [
    "### How would you split a line from a csv file into a list  \n",
    "`import pandas as pd`\n",
    "#### Create a dataframe from csv\n",
    "`df = pd.read_csv('file.csv', delimiter=',')`  \n",
    "####  User list comprehension to create a list of lists from Dataframe rows\n",
    "`list_of_rows = [list(row) for row in df.values]`\n",
    "####  Insert Column names as first list in list of lists\n",
    "`list_of_rows.insert(0, df.columns.to_list())`\n",
    "####  Print list of lists i.e. rows\n",
    "`print(list_of_rows)`"
   ]
  },
  {
   "cell_type": "markdown",
   "id": "7cb40943",
   "metadata": {},
   "source": [
    "## Part II"
   ]
  },
  {
   "cell_type": "markdown",
   "id": "ff4d8177",
   "metadata": {},
   "source": [
    "## 1. Create a documented python script that would:  \n",
    "### A. take this number 112345678911234566 and count the number of 2s in the string and print out the number"
   ]
  },
  {
   "cell_type": "markdown",
   "id": "ae018684",
   "metadata": {},
   "source": [
    " Number2Count.sh in scripts folder. script below also.\n"
   ]
  },
  {
   "cell_type": "code",
   "execution_count": 21,
   "id": "eb7a3d10",
   "metadata": {},
   "outputs": [
    {
     "name": "stdout",
     "output_type": "stream",
     "text": [
      "Enter a number112345678911234566\n",
      "Number of Twos 2\n"
     ]
    }
   ],
   "source": [
    "#! /usr/bin/env python\n",
    "\n",
    "Number = input(\"Enter a number\")\n",
    "NumberCount = Number.count('2') \n",
    "print ('Number of Twos', NumberCount)"
   ]
  },
  {
   "cell_type": "markdown",
   "id": "68a6d21a",
   "metadata": {},
   "source": [
    "### B.  take a sentence from user input, turn it all to lowercase letters and remove the spaces and count the length and print out the length."
   ]
  },
  {
   "cell_type": "markdown",
   "id": "2dc3aa96",
   "metadata": {},
   "source": [
    "SentenceLength.sh in scripts folderr. script also below."
   ]
  },
  {
   "cell_type": "code",
   "execution_count": 24,
   "id": "09d410fc",
   "metadata": {},
   "outputs": [
    {
     "name": "stdout",
     "output_type": "stream",
     "text": [
      "Enter a sentenceI am so behind\n",
      "Length of sentence 11\n"
     ]
    }
   ],
   "source": [
    "#! /usr/bin/env python\n",
    "\n",
    "Sentence = input(\"Enter a sentence\")\n",
    "SentenceLower = Sentence.lower() \n",
    "SentenceNoSpace = SentenceLower.replace(\" \",\"\")\n",
    "SentenceNoSpaceCount = len(SentenceNoSpace)\n",
    "print ('Length of sentence', SentenceNoSpaceCount)"
   ]
  },
  {
   "cell_type": "markdown",
   "id": "2d94fd05",
   "metadata": {},
   "source": [
    "## 2. Create a documented python script that will do the following two things. For each task, first write the pseudocode, comment out the pseudocode and beneath the pseudocode write the script."
   ]
  },
  {
   "cell_type": "markdown",
   "id": "c0974076",
   "metadata": {},
   "source": [
    "### A: Create a list of numbers (any numbers you like). Then loop through the items in the list adding 1 to every number and print those numbers."
   ]
  },
  {
   "cell_type": "markdown",
   "id": "a2d494af",
   "metadata": {},
   "source": [
    "create number list of intergers and add one to each number in list and print out the new list of numbers"
   ]
  },
  {
   "cell_type": "code",
   "execution_count": 36,
   "id": "761320ab",
   "metadata": {},
   "outputs": [
    {
     "name": "stdout",
     "output_type": "stream",
     "text": [
      "1\n",
      "2\n",
      "3\n",
      "4\n",
      "5\n",
      "6\n",
      "7\n",
      "8\n",
      "9\n",
      "10\n",
      "11\n",
      "12\n",
      "13\n",
      "14\n",
      "15\n",
      "16\n",
      "17\n",
      "18\n",
      "19\n",
      "20\n"
     ]
    }
   ],
   "source": [
    "list = [i for i in range(20)]\n",
    "list\n",
    "for integer in list:\n",
    "    newList = integer + 1\n",
    "    print (newList)"
   ]
  },
  {
   "cell_type": "markdown",
   "id": "c59b8af3",
   "metadata": {},
   "source": [
    "### B: Create a dictionary of animals and their sizes (make up whatever you want). Print out the keys of the dictionary. Make a list of all the animals and then write an if else statement to print out the animal name and the word “big” if the weight is over 20 grams and the word “small” if the weight is less than 20 grams. "
   ]
  },
  {
   "cell_type": "code",
   "execution_count": 53,
   "id": "190b987a",
   "metadata": {
    "scrolled": true
   },
   "outputs": [
    {
     "name": "stdout",
     "output_type": "stream",
     "text": [
      "dict_keys(['elephant', 'dog', 'mouse'])\n",
      "big\n",
      "big\n",
      "small\n"
     ]
    }
   ],
   "source": [
    "animalWeight = {\n",
    "    \"elephant\" : 2000,\n",
    "    \"dog\" : 20,\n",
    "    \"mouse\" : 2\n",
    "}\n",
    "list = (animalWeight.keys())\n",
    "print(list)\n",
    "for animal in animalWeight:\n",
    "    if animalWeight[animal] > 3:\n",
    "        print(\"big\")\n",
    "    else:\n",
    "        print(\"small\")"
   ]
  },
  {
   "cell_type": "markdown",
   "id": "ffe02e3e",
   "metadata": {},
   "source": [
    "### C: Create a documented python script that will open up the file “Bloom_etal_2018_Reduced_Dataset”. Read through the file and print out the taxon name and their diadromous status. Add up all of the log body sizes and print out the total log body size for all the individuals in the file."
   ]
  },
  {
   "cell_type": "code",
   "execution_count": 65,
   "id": "5ab1c75d",
   "metadata": {},
   "outputs": [
    {
     "name": "stdout",
     "output_type": "stream",
     "text": [
      "                           taxa             Reg\n",
      "0                Alosa_alabamae      diadromous\n",
      "1                   Alosa_alosa      diadromous\n",
      "2                  Alosa_fallax      diadromous\n",
      "3               Alosa_mediocris      diadromous\n",
      "4          Alosa_pseudoharengus      diadromous\n",
      "5             Alosa_sapidissima      diadromous\n",
      "6      Amazonsprattus_scintilla  non-diadromous\n",
      "7              Anchoa_chamensis  non-diadromous\n",
      "8                 Anchoa_cubana  non-diadromous\n",
      "9          Anchoa_delicatissima  non-diadromous\n",
      "10          Anchoa_lamprotaenia  non-diadromous\n",
      "11              Anchoa_lyolepis  non-diadromous\n",
      "12                 Anchoa_parva  non-diadromous\n",
      "13            Anchoa_schofieldi  non-diadromous\n",
      "14        Anchovia_surinamensis  non-diadromous\n",
      "15          Anchoviella_balboae  non-diadromous\n",
      "16     Anchoviella_brevirostris  non-diadromous\n",
      "17           Anchoviella_jamesi  non-diadromous\n",
      "18   Anchoviella_lepidentostole      diadromous\n",
      "19       Anchoviella_manamensis  non-diadromous\n",
      "20       Anodontostoma_chacunda      diadromous\n",
      "21       Cetengraulis_edentulus  non-diadromous\n",
      "22  Chirocentrodon_bleekerianus  non-diadromous\n",
      "23      Clupeichthys_perakensis  non-diadromous\n",
      "24        Clupeoides_borneensis  non-diadromous\n",
      "25                 Coilia_nasus      diadromous\n",
      "26          Ehirava_fluviatilis  non-diadromous\n",
      "27        Encrasicholina_devisi  non-diadromous\n",
      "28          Engraulis_eurystole  non-diadromous\n",
      "29          Escualosa_thoracata  non-diadromous\n",
      "30          Ethmalosa_fimbriata      diadromous\n",
      "31      Gilchristella_aestuaria  non-diadromous\n",
      "32                  Hilsa_kelee      diadromous\n",
      "33         Hyperlophus_vittatus  non-diadromous\n",
      "34       Jenkinsia_lamprotaenia  non-diadromous\n",
      "35         Microthrissa_congica  non-diadromous\n",
      "36            Pellona_harroweri  non-diadromous\n",
      "37          Pellonula_leonensis      diadromous\n",
      "38              Pellonula_vorax      diadromous\n",
      "39        Potamalosa_richmondia      diadromous\n",
      "40               Ramnogaster_sp  non-diadromous\n",
      "41      Rhinosardinia_bahiensis  non-diadromous\n",
      "42           Sauvagella_robusta  non-diadromous\n",
      "43      Sierrathrissa_leonensis  non-diadromous\n",
      "44    Spratelloides_delicatulus  non-diadromous\n",
      "45           Stolephorus_waitei  non-diadromous\n",
      "46      Stolothrissa_tanganicae  non-diadromous\n",
      "47      Sundasalanx_mekongensis  non-diadromous\n",
      "48             Tenualosa_ilisha      diadromous\n",
      "49        Thryssa_cf_dussumieri  non-diadromous\n",
      "Total Log Body Size 52.07931875199999\n"
     ]
    }
   ],
   "source": [
    "import pandas as pd\n",
    "\n",
    "Bloom_DF = pd.read_csv(\"Bloom_etal_2018_Reduced_Dataset.csv\")\n",
    "TaxonDiadrom = Bloom_DF[['taxa', 'Reg']]\n",
    "print(TaxonDiadrom)\n",
    "logbodysize_total = Bloom_DF['logbodysize'].sum()\n",
    "print('Total Log Body Size',logbodysize_total)"
   ]
  },
  {
   "cell_type": "code",
   "execution_count": null,
   "id": "07e2ebd1",
   "metadata": {},
   "outputs": [],
   "source": []
  }
 ],
 "metadata": {
  "kernelspec": {
   "display_name": "Python 3",
   "language": "python",
   "name": "python3"
  },
  "language_info": {
   "codemirror_mode": {
    "name": "ipython",
    "version": 3
   },
   "file_extension": ".py",
   "mimetype": "text/x-python",
   "name": "python",
   "nbconvert_exporter": "python",
   "pygments_lexer": "ipython3",
   "version": "3.8.8"
  }
 },
 "nbformat": 4,
 "nbformat_minor": 5
}
